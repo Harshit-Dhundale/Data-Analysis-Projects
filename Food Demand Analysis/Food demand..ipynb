{
 "cells": [
  {
   "cell_type": "code",
   "execution_count": 1,
   "id": "fd8f4528",
   "metadata": {},
   "outputs": [],
   "source": [
    "import pandas as pp\n",
    "import matplotlib.pyplot as mm\n",
    "%matplotlib inline \n",
    "import numpy as nn\n",
    "import seaborn as ss"
   ]
  },
  {
   "cell_type": "code",
   "execution_count": 18,
   "id": "c26cb97c",
   "metadata": {},
   "outputs": [
    {
     "data": {
      "text/html": [
       "<div>\n",
       "<style scoped>\n",
       "    .dataframe tbody tr th:only-of-type {\n",
       "        vertical-align: middle;\n",
       "    }\n",
       "\n",
       "    .dataframe tbody tr th {\n",
       "        vertical-align: top;\n",
       "    }\n",
       "\n",
       "    .dataframe thead th {\n",
       "        text-align: right;\n",
       "    }\n",
       "</style>\n",
       "<table border=\"1\" class=\"dataframe\">\n",
       "  <thead>\n",
       "    <tr style=\"text-align: right;\">\n",
       "      <th></th>\n",
       "      <th>id</th>\n",
       "      <th>week</th>\n",
       "      <th>center_id</th>\n",
       "      <th>meal_id</th>\n",
       "      <th>checkout_price</th>\n",
       "      <th>base_price</th>\n",
       "      <th>emailer_for_promotion</th>\n",
       "      <th>homepage_featured</th>\n",
       "      <th>num_orders</th>\n",
       "    </tr>\n",
       "  </thead>\n",
       "  <tbody>\n",
       "    <tr>\n",
       "      <th>0</th>\n",
       "      <td>1000000</td>\n",
       "      <td>3</td>\n",
       "      <td>157</td>\n",
       "      <td>2760</td>\n",
       "      <td>233.83</td>\n",
       "      <td>231.83</td>\n",
       "      <td>0</td>\n",
       "      <td>0</td>\n",
       "      <td>149</td>\n",
       "    </tr>\n",
       "    <tr>\n",
       "      <th>1</th>\n",
       "      <td>1000001</td>\n",
       "      <td>100</td>\n",
       "      <td>104</td>\n",
       "      <td>2956</td>\n",
       "      <td>486.03</td>\n",
       "      <td>583.03</td>\n",
       "      <td>0</td>\n",
       "      <td>0</td>\n",
       "      <td>161</td>\n",
       "    </tr>\n",
       "    <tr>\n",
       "      <th>2</th>\n",
       "      <td>1000002</td>\n",
       "      <td>143</td>\n",
       "      <td>75</td>\n",
       "      <td>1971</td>\n",
       "      <td>328.86</td>\n",
       "      <td>327.86</td>\n",
       "      <td>0</td>\n",
       "      <td>0</td>\n",
       "      <td>149</td>\n",
       "    </tr>\n",
       "    <tr>\n",
       "      <th>3</th>\n",
       "      <td>1000003</td>\n",
       "      <td>41</td>\n",
       "      <td>24</td>\n",
       "      <td>2539</td>\n",
       "      <td>145.53</td>\n",
       "      <td>145.53</td>\n",
       "      <td>0</td>\n",
       "      <td>0</td>\n",
       "      <td>540</td>\n",
       "    </tr>\n",
       "    <tr>\n",
       "      <th>4</th>\n",
       "      <td>1000004</td>\n",
       "      <td>45</td>\n",
       "      <td>83</td>\n",
       "      <td>2539</td>\n",
       "      <td>95.06</td>\n",
       "      <td>120.34</td>\n",
       "      <td>0</td>\n",
       "      <td>0</td>\n",
       "      <td>271</td>\n",
       "    </tr>\n",
       "    <tr>\n",
       "      <th>...</th>\n",
       "      <td>...</td>\n",
       "      <td>...</td>\n",
       "      <td>...</td>\n",
       "      <td>...</td>\n",
       "      <td>...</td>\n",
       "      <td>...</td>\n",
       "      <td>...</td>\n",
       "      <td>...</td>\n",
       "      <td>...</td>\n",
       "    </tr>\n",
       "    <tr>\n",
       "      <th>1994</th>\n",
       "      <td>1002177</td>\n",
       "      <td>89</td>\n",
       "      <td>72</td>\n",
       "      <td>1311</td>\n",
       "      <td>130.04</td>\n",
       "      <td>177.51</td>\n",
       "      <td>0</td>\n",
       "      <td>0</td>\n",
       "      <td>68</td>\n",
       "    </tr>\n",
       "    <tr>\n",
       "      <th>1995</th>\n",
       "      <td>1002178</td>\n",
       "      <td>24</td>\n",
       "      <td>50</td>\n",
       "      <td>2444</td>\n",
       "      <td>604.31</td>\n",
       "      <td>606.31</td>\n",
       "      <td>0</td>\n",
       "      <td>0</td>\n",
       "      <td>109</td>\n",
       "    </tr>\n",
       "    <tr>\n",
       "      <th>1996</th>\n",
       "      <td>1002179</td>\n",
       "      <td>43</td>\n",
       "      <td>88</td>\n",
       "      <td>1971</td>\n",
       "      <td>291.06</td>\n",
       "      <td>291.06</td>\n",
       "      <td>0</td>\n",
       "      <td>0</td>\n",
       "      <td>366</td>\n",
       "    </tr>\n",
       "    <tr>\n",
       "      <th>1997</th>\n",
       "      <td>1002180</td>\n",
       "      <td>107</td>\n",
       "      <td>58</td>\n",
       "      <td>1543</td>\n",
       "      <td>473.39</td>\n",
       "      <td>473.39</td>\n",
       "      <td>0</td>\n",
       "      <td>1</td>\n",
       "      <td>42</td>\n",
       "    </tr>\n",
       "    <tr>\n",
       "      <th>1998</th>\n",
       "      <td>1002181</td>\n",
       "      <td>105</td>\n",
       "      <td>177</td>\n",
       "      <td>2322</td>\n",
       "      <td>284.27</td>\n",
       "      <td>284.27</td>\n",
       "      <td>0</td>\n",
       "      <td>0</td>\n",
       "      <td>485</td>\n",
       "    </tr>\n",
       "  </tbody>\n",
       "</table>\n",
       "<p>1999 rows × 9 columns</p>\n",
       "</div>"
      ],
      "text/plain": [
       "           id  week  center_id  meal_id  checkout_price  base_price  \\\n",
       "0     1000000     3        157     2760          233.83      231.83   \n",
       "1     1000001   100        104     2956          486.03      583.03   \n",
       "2     1000002   143         75     1971          328.86      327.86   \n",
       "3     1000003    41         24     2539          145.53      145.53   \n",
       "4     1000004    45         83     2539           95.06      120.34   \n",
       "...       ...   ...        ...      ...             ...         ...   \n",
       "1994  1002177    89         72     1311          130.04      177.51   \n",
       "1995  1002178    24         50     2444          604.31      606.31   \n",
       "1996  1002179    43         88     1971          291.06      291.06   \n",
       "1997  1002180   107         58     1543          473.39      473.39   \n",
       "1998  1002181   105        177     2322          284.27      284.27   \n",
       "\n",
       "      emailer_for_promotion  homepage_featured  num_orders  \n",
       "0                         0                  0         149  \n",
       "1                         0                  0         161  \n",
       "2                         0                  0         149  \n",
       "3                         0                  0         540  \n",
       "4                         0                  0         271  \n",
       "...                     ...                ...         ...  \n",
       "1994                      0                  0          68  \n",
       "1995                      0                  0         109  \n",
       "1996                      0                  0         366  \n",
       "1997                      0                  1          42  \n",
       "1998                      0                  0         485  \n",
       "\n",
       "[1999 rows x 9 columns]"
      ]
     },
     "execution_count": 18,
     "metadata": {},
     "output_type": "execute_result"
    }
   ],
   "source": [
    "a = pp.read_csv(\"Food demand.csv\")\n",
    "a"
   ]
  },
  {
   "cell_type": "code",
   "execution_count": 41,
   "id": "40051676",
   "metadata": {},
   "outputs": [
    {
     "data": {
      "text/plain": [
       "array([0, 1])"
      ]
     },
     "execution_count": 41,
     "metadata": {},
     "output_type": "execute_result"
    }
   ],
   "source": [
    "a['emailer_for_promotion'].unique()"
   ]
  },
  {
   "cell_type": "code",
   "execution_count": 42,
   "id": "bd19b4d4",
   "metadata": {},
   "outputs": [
    {
     "data": {
      "text/plain": [
       "array([0, 1])"
      ]
     },
     "execution_count": 42,
     "metadata": {},
     "output_type": "execute_result"
    }
   ],
   "source": [
    "a['homepage_featured'].unique()"
   ]
  },
  {
   "cell_type": "code",
   "execution_count": 44,
   "id": "db6c8227",
   "metadata": {},
   "outputs": [
    {
     "data": {
      "text/plain": [
       "homepage_featured\n",
       "0    1789\n",
       "1     210\n",
       "Name: count, dtype: int64"
      ]
     },
     "execution_count": 44,
     "metadata": {},
     "output_type": "execute_result"
    }
   ],
   "source": [
    "a['homepage_featured'].value_counts()"
   ]
  },
  {
   "cell_type": "code",
   "execution_count": 19,
   "id": "bb95f980",
   "metadata": {},
   "outputs": [
    {
     "data": {
      "text/plain": [
       "(1999, 9)"
      ]
     },
     "execution_count": 19,
     "metadata": {},
     "output_type": "execute_result"
    }
   ],
   "source": [
    "a.shape"
   ]
  },
  {
   "cell_type": "code",
   "execution_count": 20,
   "id": "4b29d0a6",
   "metadata": {},
   "outputs": [
    {
     "data": {
      "text/plain": [
       "id                       0\n",
       "week                     0\n",
       "center_id                0\n",
       "meal_id                  0\n",
       "checkout_price           0\n",
       "base_price               0\n",
       "emailer_for_promotion    0\n",
       "homepage_featured        0\n",
       "num_orders               0\n",
       "dtype: int64"
      ]
     },
     "execution_count": 20,
     "metadata": {},
     "output_type": "execute_result"
    }
   ],
   "source": [
    "a.isnull().sum() # no null values in the given dataset"
   ]
  },
  {
   "cell_type": "code",
   "execution_count": 21,
   "id": "b981baba",
   "metadata": {},
   "outputs": [],
   "source": [
    "from sklearn import linear_model# importing the linear model from the sklearn "
   ]
  },
  {
   "cell_type": "code",
   "execution_count": 53,
   "id": "403e4b84",
   "metadata": {},
   "outputs": [
    {
     "data": {
      "text/html": [
       "<style>#sk-container-id-3 {color: black;}#sk-container-id-3 pre{padding: 0;}#sk-container-id-3 div.sk-toggleable {background-color: white;}#sk-container-id-3 label.sk-toggleable__label {cursor: pointer;display: block;width: 100%;margin-bottom: 0;padding: 0.3em;box-sizing: border-box;text-align: center;}#sk-container-id-3 label.sk-toggleable__label-arrow:before {content: \"▸\";float: left;margin-right: 0.25em;color: #696969;}#sk-container-id-3 label.sk-toggleable__label-arrow:hover:before {color: black;}#sk-container-id-3 div.sk-estimator:hover label.sk-toggleable__label-arrow:before {color: black;}#sk-container-id-3 div.sk-toggleable__content {max-height: 0;max-width: 0;overflow: hidden;text-align: left;background-color: #f0f8ff;}#sk-container-id-3 div.sk-toggleable__content pre {margin: 0.2em;color: black;border-radius: 0.25em;background-color: #f0f8ff;}#sk-container-id-3 input.sk-toggleable__control:checked~div.sk-toggleable__content {max-height: 200px;max-width: 100%;overflow: auto;}#sk-container-id-3 input.sk-toggleable__control:checked~label.sk-toggleable__label-arrow:before {content: \"▾\";}#sk-container-id-3 div.sk-estimator input.sk-toggleable__control:checked~label.sk-toggleable__label {background-color: #d4ebff;}#sk-container-id-3 div.sk-label input.sk-toggleable__control:checked~label.sk-toggleable__label {background-color: #d4ebff;}#sk-container-id-3 input.sk-hidden--visually {border: 0;clip: rect(1px 1px 1px 1px);clip: rect(1px, 1px, 1px, 1px);height: 1px;margin: -1px;overflow: hidden;padding: 0;position: absolute;width: 1px;}#sk-container-id-3 div.sk-estimator {font-family: monospace;background-color: #f0f8ff;border: 1px dotted black;border-radius: 0.25em;box-sizing: border-box;margin-bottom: 0.5em;}#sk-container-id-3 div.sk-estimator:hover {background-color: #d4ebff;}#sk-container-id-3 div.sk-parallel-item::after {content: \"\";width: 100%;border-bottom: 1px solid gray;flex-grow: 1;}#sk-container-id-3 div.sk-label:hover label.sk-toggleable__label {background-color: #d4ebff;}#sk-container-id-3 div.sk-serial::before {content: \"\";position: absolute;border-left: 1px solid gray;box-sizing: border-box;top: 0;bottom: 0;left: 50%;z-index: 0;}#sk-container-id-3 div.sk-serial {display: flex;flex-direction: column;align-items: center;background-color: white;padding-right: 0.2em;padding-left: 0.2em;position: relative;}#sk-container-id-3 div.sk-item {position: relative;z-index: 1;}#sk-container-id-3 div.sk-parallel {display: flex;align-items: stretch;justify-content: center;background-color: white;position: relative;}#sk-container-id-3 div.sk-item::before, #sk-container-id-3 div.sk-parallel-item::before {content: \"\";position: absolute;border-left: 1px solid gray;box-sizing: border-box;top: 0;bottom: 0;left: 50%;z-index: -1;}#sk-container-id-3 div.sk-parallel-item {display: flex;flex-direction: column;z-index: 1;position: relative;background-color: white;}#sk-container-id-3 div.sk-parallel-item:first-child::after {align-self: flex-end;width: 50%;}#sk-container-id-3 div.sk-parallel-item:last-child::after {align-self: flex-start;width: 50%;}#sk-container-id-3 div.sk-parallel-item:only-child::after {width: 0;}#sk-container-id-3 div.sk-dashed-wrapped {border: 1px dashed gray;margin: 0 0.4em 0.5em 0.4em;box-sizing: border-box;padding-bottom: 0.4em;background-color: white;}#sk-container-id-3 div.sk-label label {font-family: monospace;font-weight: bold;display: inline-block;line-height: 1.2em;}#sk-container-id-3 div.sk-label-container {text-align: center;}#sk-container-id-3 div.sk-container {/* jupyter's `normalize.less` sets `[hidden] { display: none; }` but bootstrap.min.css set `[hidden] { display: none !important; }` so we also need the `!important` here to be able to override the default hidden behavior on the sphinx rendered scikit-learn.org. See: https://github.com/scikit-learn/scikit-learn/issues/21755 */display: inline-block !important;position: relative;}#sk-container-id-3 div.sk-text-repr-fallback {display: none;}</style><div id=\"sk-container-id-3\" class=\"sk-top-container\"><div class=\"sk-text-repr-fallback\"><pre>LinearRegression()</pre><b>In a Jupyter environment, please rerun this cell to show the HTML representation or trust the notebook. <br />On GitHub, the HTML representation is unable to render, please try loading this page with nbviewer.org.</b></div><div class=\"sk-container\" hidden><div class=\"sk-item\"><div class=\"sk-estimator sk-toggleable\"><input class=\"sk-toggleable__control sk-hidden--visually\" id=\"sk-estimator-id-3\" type=\"checkbox\" checked><label for=\"sk-estimator-id-3\" class=\"sk-toggleable__label sk-toggleable__label-arrow\">LinearRegression</label><div class=\"sk-toggleable__content\"><pre>LinearRegression()</pre></div></div></div></div></div>"
      ],
      "text/plain": [
       "LinearRegression()"
      ]
     },
     "execution_count": 53,
     "metadata": {},
     "output_type": "execute_result"
    }
   ],
   "source": [
    "r = linear_model.LinearRegression()\n",
    "r.fit(a[['id','week','center_id' ,'meal_id','checkout_price','base_price','emailer_for_promotion','homepage_featured']],a.num_orders)"
   ]
  },
  {
   "cell_type": "code",
   "execution_count": 54,
   "id": "c19d5504",
   "metadata": {},
   "outputs": [
    {
     "data": {
      "text/plain": [
       "array([ 1.18661236e-02, -2.84201511e-01, -1.67741042e-01,  2.01562455e-03,\n",
       "       -6.64890872e-01,  4.57271554e-02,  3.09764612e+02,  2.31740330e+02])"
      ]
     },
     "execution_count": 54,
     "metadata": {},
     "output_type": "execute_result"
    }
   ],
   "source": [
    "r.coef_\n"
   ]
  },
  {
   "cell_type": "code",
   "execution_count": 55,
   "id": "affce992",
   "metadata": {},
   "outputs": [
    {
     "data": {
      "text/plain": [
       "-11436.028106605181"
      ]
     },
     "execution_count": 55,
     "metadata": {},
     "output_type": "execute_result"
    }
   ],
   "source": [
    "r.intercept_"
   ]
  },
  {
   "cell_type": "code",
   "execution_count": 56,
   "id": "ea4382c3",
   "metadata": {},
   "outputs": [
    {
     "data": {
      "text/plain": [
       "array([  3, 100, 143,  41,  45, 101, 107,  11, 114,  68,  10,  18,  33,\n",
       "       140, 105, 112, 131,   9,  88, 111,  49,   6,  30,  91, 104,  83,\n",
       "        95,  24,  97,  25,  90,   4, 109, 139,  85, 141,  40, 120,  86,\n",
       "        64,  42,  31,  93,   1, 133, 144,  51,   5,  98, 135,   7,  94,\n",
       "        78, 118,  26,  73, 113,   8,  32, 122,  21,  28, 130,  92, 132,\n",
       "        56, 124,  65, 134, 110,  59,  35, 119,  55, 127,  67,  19,  69,\n",
       "       106,  36,  82,  75,  47, 102,  37, 115,  84, 116,  22,  12,  96,\n",
       "        48,  70,  80,  54,  15, 129,  14,  44,  63, 103, 136, 121,  87,\n",
       "        57,  46,  76,  77,  20,  38, 108,  34,  60, 142, 125,  17, 138,\n",
       "        74, 137, 126,  13,  66,  58,  62,   2,  53,  81,  50,  16, 145,\n",
       "        52, 117,  27,  89,  99,  61, 128,  39,  23,  71,  72,  43,  79,\n",
       "       123,  29])"
      ]
     },
     "execution_count": 56,
     "metadata": {},
     "output_type": "execute_result"
    }
   ],
   "source": [
    "a['week'].unique()"
   ]
  },
  {
   "cell_type": "code",
   "execution_count": 57,
   "id": "9ccb1206",
   "metadata": {},
   "outputs": [
    {
     "data": {
      "text/plain": [
       "array([157, 104,  75,  24,  83,  65, 153,  50,  57,  36,  76,  88,  81,\n",
       "        43,  77,  80,  92,  52,  89,  68,  55,  14,  41,  97,  94, 174,\n",
       "       145,  10, 186,  93,  58, 137,  34, 101,  11,  29, 124, 143, 129,\n",
       "        73, 126,  59,  66,  26,  13,  53, 109,  39,  99, 110,  30, 106,\n",
       "        23, 146,  51,  72,  17,  32,  67,  64,  91,  74, 149, 139, 161,\n",
       "       162, 132, 177, 108,  61,  42,  20, 113,  86, 102,  27, 152])"
      ]
     },
     "execution_count": 57,
     "metadata": {},
     "output_type": "execute_result"
    }
   ],
   "source": [
    "a['center_id'].unique()"
   ]
  },
  {
   "cell_type": "code",
   "execution_count": 50,
   "id": "94339247",
   "metadata": {},
   "outputs": [
    {
     "data": {
      "text/plain": [
       "array([2760, 2956, 1971, 2539, 1754, 2126, 1062, 1962, 1216, 2867, 2494,\n",
       "       1571, 2139, 2290, 2826, 1445, 1311, 2704, 1248, 1109, 2640, 1885,\n",
       "       1207, 2490, 2581, 1558, 1878, 1543, 2664, 2631, 2492, 2577, 2569,\n",
       "       1727, 1778, 1525, 1770, 1247, 2306, 2707, 2304, 2322, 2444, 1198,\n",
       "       1803, 1993, 1902, 1230, 1847, 2104, 1438])"
      ]
     },
     "execution_count": 50,
     "metadata": {},
     "output_type": "execute_result"
    }
   ],
   "source": [
    "a['meal_id'].unique()"
   ]
  },
  {
   "cell_type": "code",
   "execution_count": 58,
   "id": "abe4bfff",
   "metadata": {},
   "outputs": [
    {
     "data": {
      "text/plain": [
       "array([1000000, 1000001, 1000002, ..., 1002179, 1002180, 1002181])"
      ]
     },
     "execution_count": 58,
     "metadata": {},
     "output_type": "execute_result"
    }
   ],
   "source": [
    "a['id'].unique()"
   ]
  },
  {
   "cell_type": "code",
   "execution_count": 64,
   "id": "7a3f1e70",
   "metadata": {},
   "outputs": [
    {
     "name": "stderr",
     "output_type": "stream",
     "text": [
      "/Users/devanshgupta/anaconda3/lib/python3.11/site-packages/sklearn/base.py:464: UserWarning: X does not have valid feature names, but LinearRegression was fitted with feature names\n",
      "  warnings.warn(\n"
     ]
    },
    {
     "data": {
      "text/plain": [
       "array([456.85512047])"
      ]
     },
     "execution_count": 64,
     "metadata": {},
     "output_type": "execute_result"
    }
   ],
   "source": [
    "r.predict([[1002181,105,177,2322,284.27,284.27,0,1]])"
   ]
  },
  {
   "cell_type": "code",
   "execution_count": null,
   "id": "521585c8",
   "metadata": {},
   "outputs": [],
   "source": []
  }
 ],
 "metadata": {
  "kernelspec": {
   "display_name": "Python 3 (ipykernel)",
   "language": "python",
   "name": "python3"
  },
  "language_info": {
   "codemirror_mode": {
    "name": "ipython",
    "version": 3
   },
   "file_extension": ".py",
   "mimetype": "text/x-python",
   "name": "python",
   "nbconvert_exporter": "python",
   "pygments_lexer": "ipython3",
   "version": "3.11.4"
  }
 },
 "nbformat": 4,
 "nbformat_minor": 5
}
