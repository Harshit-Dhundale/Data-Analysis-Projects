{
 "cells": [
  {
   "cell_type": "code",
   "execution_count": 1,
   "id": "a0f57353",
   "metadata": {},
   "outputs": [],
   "source": [
    "import pandas as pp\n",
    "import numpy as nn\n",
    "import seaborn as ss\n",
    "import matplotlib.pyplot as mm"
   ]
  },
  {
   "cell_type": "code",
   "execution_count": 4,
   "id": "f5a3bf17",
   "metadata": {
    "scrolled": true
   },
   "outputs": [
    {
     "name": "stdout",
     "output_type": "stream",
     "text": [
      "      Age  Gender                         Stream  Internships  CGPA  Hostel  \\\n",
      "0      22    Male  Electronics And Communication            1     8       1   \n",
      "1      21  Female               Computer Science            0     7       1   \n",
      "2      22  Female         Information Technology            1     6       0   \n",
      "3      21    Male         Information Technology            0     8       0   \n",
      "4      22    Male                     Mechanical            0     8       1   \n",
      "...   ...     ...                            ...          ...   ...     ...   \n",
      "2961   23    Male         Information Technology            0     7       0   \n",
      "2962   23    Male                     Mechanical            1     7       1   \n",
      "2963   22    Male         Information Technology            1     7       0   \n",
      "2964   22    Male               Computer Science            1     7       0   \n",
      "2965   23    Male                          Civil            0     8       0   \n",
      "\n",
      "      HistoryOfBacklogs  PlacedOrNot  \n",
      "0                     1            1  \n",
      "1                     1            1  \n",
      "2                     0            1  \n",
      "3                     1            1  \n",
      "4                     0            1  \n",
      "...                 ...          ...  \n",
      "2961                  0            0  \n",
      "2962                  0            0  \n",
      "2963                  0            0  \n",
      "2964                  0            0  \n",
      "2965                  0            1  \n",
      "\n",
      "[2966 rows x 8 columns]\n"
     ]
    }
   ],
   "source": [
    "a = pp.read_csv(\"collegePlace.csv\")\n",
    "print(a)"
   ]
  },
  {
   "cell_type": "code",
   "execution_count": 5,
   "id": "1d120132",
   "metadata": {},
   "outputs": [
    {
     "data": {
      "text/plain": [
       "(2966, 8)"
      ]
     },
     "execution_count": 5,
     "metadata": {},
     "output_type": "execute_result"
    }
   ],
   "source": [
    "a.shape # 2966 rows and 8 columns"
   ]
  },
  {
   "cell_type": "code",
   "execution_count": 6,
   "id": "ce351866",
   "metadata": {},
   "outputs": [
    {
     "data": {
      "text/html": [
       "<div>\n",
       "<style scoped>\n",
       "    .dataframe tbody tr th:only-of-type {\n",
       "        vertical-align: middle;\n",
       "    }\n",
       "\n",
       "    .dataframe tbody tr th {\n",
       "        vertical-align: top;\n",
       "    }\n",
       "\n",
       "    .dataframe thead th {\n",
       "        text-align: right;\n",
       "    }\n",
       "</style>\n",
       "<table border=\"1\" class=\"dataframe\">\n",
       "  <thead>\n",
       "    <tr style=\"text-align: right;\">\n",
       "      <th></th>\n",
       "      <th>Age</th>\n",
       "      <th>Gender</th>\n",
       "      <th>Stream</th>\n",
       "      <th>Internships</th>\n",
       "      <th>CGPA</th>\n",
       "      <th>Hostel</th>\n",
       "      <th>HistoryOfBacklogs</th>\n",
       "      <th>PlacedOrNot</th>\n",
       "    </tr>\n",
       "  </thead>\n",
       "  <tbody>\n",
       "    <tr>\n",
       "      <th>0</th>\n",
       "      <td>22</td>\n",
       "      <td>Male</td>\n",
       "      <td>Electronics And Communication</td>\n",
       "      <td>1</td>\n",
       "      <td>8</td>\n",
       "      <td>1</td>\n",
       "      <td>1</td>\n",
       "      <td>1</td>\n",
       "    </tr>\n",
       "    <tr>\n",
       "      <th>1</th>\n",
       "      <td>21</td>\n",
       "      <td>Female</td>\n",
       "      <td>Computer Science</td>\n",
       "      <td>0</td>\n",
       "      <td>7</td>\n",
       "      <td>1</td>\n",
       "      <td>1</td>\n",
       "      <td>1</td>\n",
       "    </tr>\n",
       "    <tr>\n",
       "      <th>2</th>\n",
       "      <td>22</td>\n",
       "      <td>Female</td>\n",
       "      <td>Information Technology</td>\n",
       "      <td>1</td>\n",
       "      <td>6</td>\n",
       "      <td>0</td>\n",
       "      <td>0</td>\n",
       "      <td>1</td>\n",
       "    </tr>\n",
       "    <tr>\n",
       "      <th>3</th>\n",
       "      <td>21</td>\n",
       "      <td>Male</td>\n",
       "      <td>Information Technology</td>\n",
       "      <td>0</td>\n",
       "      <td>8</td>\n",
       "      <td>0</td>\n",
       "      <td>1</td>\n",
       "      <td>1</td>\n",
       "    </tr>\n",
       "    <tr>\n",
       "      <th>4</th>\n",
       "      <td>22</td>\n",
       "      <td>Male</td>\n",
       "      <td>Mechanical</td>\n",
       "      <td>0</td>\n",
       "      <td>8</td>\n",
       "      <td>1</td>\n",
       "      <td>0</td>\n",
       "      <td>1</td>\n",
       "    </tr>\n",
       "  </tbody>\n",
       "</table>\n",
       "</div>"
      ],
      "text/plain": [
       "   Age  Gender                         Stream  Internships  CGPA  Hostel  \\\n",
       "0   22    Male  Electronics And Communication            1     8       1   \n",
       "1   21  Female               Computer Science            0     7       1   \n",
       "2   22  Female         Information Technology            1     6       0   \n",
       "3   21    Male         Information Technology            0     8       0   \n",
       "4   22    Male                     Mechanical            0     8       1   \n",
       "\n",
       "   HistoryOfBacklogs  PlacedOrNot  \n",
       "0                  1            1  \n",
       "1                  1            1  \n",
       "2                  0            1  \n",
       "3                  1            1  \n",
       "4                  0            1  "
      ]
     },
     "execution_count": 6,
     "metadata": {},
     "output_type": "execute_result"
    }
   ],
   "source": [
    "a.head(5)"
   ]
  },
  {
   "cell_type": "code",
   "execution_count": 7,
   "id": "b4d473f7",
   "metadata": {},
   "outputs": [
    {
     "data": {
      "text/plain": [
       "Age                  0\n",
       "Gender               0\n",
       "Stream               0\n",
       "Internships          0\n",
       "CGPA                 0\n",
       "Hostel               0\n",
       "HistoryOfBacklogs    0\n",
       "PlacedOrNot          0\n",
       "dtype: int64"
      ]
     },
     "execution_count": 7,
     "metadata": {},
     "output_type": "execute_result"
    }
   ],
   "source": [
    "a.isnull().sum()"
   ]
  },
  {
   "cell_type": "code",
   "execution_count": 8,
   "id": "26c471ca",
   "metadata": {},
   "outputs": [
    {
     "data": {
      "text/plain": [
       "Index(['Age', 'Gender', 'Stream', 'Internships', 'CGPA', 'Hostel',\n",
       "       'HistoryOfBacklogs', 'PlacedOrNot'],\n",
       "      dtype='object')"
      ]
     },
     "execution_count": 8,
     "metadata": {},
     "output_type": "execute_result"
    }
   ],
   "source": [
    "a.columns"
   ]
  },
  {
   "cell_type": "code",
   "execution_count": 9,
   "id": "3ddfbd5d",
   "metadata": {},
   "outputs": [
    {
     "name": "stdout",
     "output_type": "stream",
     "text": [
      "<class 'pandas.core.frame.DataFrame'>\n",
      "RangeIndex: 2966 entries, 0 to 2965\n",
      "Data columns (total 8 columns):\n",
      " #   Column             Non-Null Count  Dtype \n",
      "---  ------             --------------  ----- \n",
      " 0   Age                2966 non-null   int64 \n",
      " 1   Gender             2966 non-null   object\n",
      " 2   Stream             2966 non-null   object\n",
      " 3   Internships        2966 non-null   int64 \n",
      " 4   CGPA               2966 non-null   int64 \n",
      " 5   Hostel             2966 non-null   int64 \n",
      " 6   HistoryOfBacklogs  2966 non-null   int64 \n",
      " 7   PlacedOrNot        2966 non-null   int64 \n",
      "dtypes: int64(6), object(2)\n",
      "memory usage: 185.5+ KB\n"
     ]
    }
   ],
   "source": [
    "a.info()"
   ]
  },
  {
   "cell_type": "code",
   "execution_count": 10,
   "id": "6124e1c1",
   "metadata": {},
   "outputs": [
    {
     "data": {
      "text/html": [
       "<div>\n",
       "<style scoped>\n",
       "    .dataframe tbody tr th:only-of-type {\n",
       "        vertical-align: middle;\n",
       "    }\n",
       "\n",
       "    .dataframe tbody tr th {\n",
       "        vertical-align: top;\n",
       "    }\n",
       "\n",
       "    .dataframe thead th {\n",
       "        text-align: right;\n",
       "    }\n",
       "</style>\n",
       "<table border=\"1\" class=\"dataframe\">\n",
       "  <thead>\n",
       "    <tr style=\"text-align: right;\">\n",
       "      <th></th>\n",
       "      <th>Age</th>\n",
       "      <th>Gender</th>\n",
       "      <th>Stream</th>\n",
       "      <th>Internships</th>\n",
       "      <th>CGPA</th>\n",
       "      <th>Hostel</th>\n",
       "      <th>HistoryOfBacklogs</th>\n",
       "      <th>PlacedOrNot</th>\n",
       "    </tr>\n",
       "  </thead>\n",
       "  <tbody>\n",
       "    <tr>\n",
       "      <th>2961</th>\n",
       "      <td>23</td>\n",
       "      <td>Male</td>\n",
       "      <td>Information Technology</td>\n",
       "      <td>0</td>\n",
       "      <td>7</td>\n",
       "      <td>0</td>\n",
       "      <td>0</td>\n",
       "      <td>0</td>\n",
       "    </tr>\n",
       "    <tr>\n",
       "      <th>2962</th>\n",
       "      <td>23</td>\n",
       "      <td>Male</td>\n",
       "      <td>Mechanical</td>\n",
       "      <td>1</td>\n",
       "      <td>7</td>\n",
       "      <td>1</td>\n",
       "      <td>0</td>\n",
       "      <td>0</td>\n",
       "    </tr>\n",
       "    <tr>\n",
       "      <th>2963</th>\n",
       "      <td>22</td>\n",
       "      <td>Male</td>\n",
       "      <td>Information Technology</td>\n",
       "      <td>1</td>\n",
       "      <td>7</td>\n",
       "      <td>0</td>\n",
       "      <td>0</td>\n",
       "      <td>0</td>\n",
       "    </tr>\n",
       "    <tr>\n",
       "      <th>2964</th>\n",
       "      <td>22</td>\n",
       "      <td>Male</td>\n",
       "      <td>Computer Science</td>\n",
       "      <td>1</td>\n",
       "      <td>7</td>\n",
       "      <td>0</td>\n",
       "      <td>0</td>\n",
       "      <td>0</td>\n",
       "    </tr>\n",
       "    <tr>\n",
       "      <th>2965</th>\n",
       "      <td>23</td>\n",
       "      <td>Male</td>\n",
       "      <td>Civil</td>\n",
       "      <td>0</td>\n",
       "      <td>8</td>\n",
       "      <td>0</td>\n",
       "      <td>0</td>\n",
       "      <td>1</td>\n",
       "    </tr>\n",
       "  </tbody>\n",
       "</table>\n",
       "</div>"
      ],
      "text/plain": [
       "      Age Gender                  Stream  Internships  CGPA  Hostel  \\\n",
       "2961   23   Male  Information Technology            0     7       0   \n",
       "2962   23   Male              Mechanical            1     7       1   \n",
       "2963   22   Male  Information Technology            1     7       0   \n",
       "2964   22   Male        Computer Science            1     7       0   \n",
       "2965   23   Male                   Civil            0     8       0   \n",
       "\n",
       "      HistoryOfBacklogs  PlacedOrNot  \n",
       "2961                  0            0  \n",
       "2962                  0            0  \n",
       "2963                  0            0  \n",
       "2964                  0            0  \n",
       "2965                  0            1  "
      ]
     },
     "execution_count": 10,
     "metadata": {},
     "output_type": "execute_result"
    }
   ],
   "source": [
    "a.tail(5)"
   ]
  },
  {
   "cell_type": "code",
   "execution_count": 11,
   "id": "1a5eddd2",
   "metadata": {},
   "outputs": [
    {
     "data": {
      "text/plain": [
       "Stream\n",
       "Computer Science                 776\n",
       "Information Technology           691\n",
       "Electronics And Communication    424\n",
       "Mechanical                       424\n",
       "Electrical                       334\n",
       "Civil                            317\n",
       "Name: count, dtype: int64"
      ]
     },
     "execution_count": 11,
     "metadata": {},
     "output_type": "execute_result"
    }
   ],
   "source": [
    "a['Stream'].value_counts()"
   ]
  },
  {
   "cell_type": "code",
   "execution_count": 12,
   "id": "52c9b4ad",
   "metadata": {},
   "outputs": [
    {
     "data": {
      "text/plain": [
       "CGPA\n",
       "7    956\n",
       "8    915\n",
       "6    834\n",
       "9    165\n",
       "5     96\n",
       "Name: count, dtype: int64"
      ]
     },
     "execution_count": 12,
     "metadata": {},
     "output_type": "execute_result"
    }
   ],
   "source": [
    "a['CGPA'].value_counts()"
   ]
  },
  {
   "cell_type": "code",
   "execution_count": 17,
   "id": "d50805c0",
   "metadata": {},
   "outputs": [
    {
     "data": {
      "text/plain": [
       "Gender\n",
       "Male      2475\n",
       "Female     491\n",
       "Name: count, dtype: int64"
      ]
     },
     "execution_count": 17,
     "metadata": {},
     "output_type": "execute_result"
    }
   ],
   "source": [
    "a['Internships'].value_counts()\n",
    "a['Gender'].value_counts()"
   ]
  },
  {
   "cell_type": "code",
   "execution_count": 14,
   "id": "d8d4423c",
   "metadata": {},
   "outputs": [
    {
     "data": {
      "text/plain": [
       "PlacedOrNot\n",
       "1    1639\n",
       "0    1327\n",
       "Name: count, dtype: int64"
      ]
     },
     "execution_count": 14,
     "metadata": {},
     "output_type": "execute_result"
    }
   ],
   "source": [
    "a['PlacedOrNot'].value_counts()"
   ]
  },
  {
   "cell_type": "code",
   "execution_count": 29,
   "id": "2417b17c",
   "metadata": {},
   "outputs": [
    {
     "data": {
      "image/png": "[encoded data removed]",
      "text/plain": [
       "<Figure size 640x480 with 1 Axes>"
      ]
     },
     "metadata": {},
     "output_type": "display_data"
    }
   ],
   "source": [
    "import pandas as pd\n",
    "import matplotlib.pyplot as plt\n",
    "\n",
    "# Load the data\n",
    "data = pd.read_csv('collegePlace.csv')\n",
    "\n",
    "# Filter the data for females\n",
    "females = data[data['Gender'] == 'Female']\n",
    "\n",
    "# Count the number of females placed and not placed\n",
    "females_placed = females[females['PlacedOrNot'] == 1].shape[0]\n",
    "females_not_placed = females[females['PlacedOrNot'] == 0].shape[0]\n",
    "\n",
    "# Create a DataFrame for plotting\n",
    "plot_data = pd.DataFrame({'Status': ['Placed', 'Not Placed'],\n",
    "                           'Count': [females_placed, females_not_placed]})\n",
    "\n",
    "# Plot the data\n",
    "#plt.figure(figsize=(8,6))\n",
    "\n",
    "plt.bar(plot_data['Status'], plot_data['Count'], color=['green', 'red'])\n",
    "plt.xlabel('Placement Status')#, fontsize=14)\n",
    "plt.ylabel('Number of Females')#, fontsize=14)\n",
    "plt.title('Females Placed vs Not Placed')#, fontsize=16)\n",
    "plt.show()"
   ]
  },
  {
   "cell_type": "code",
   "execution_count": 50,
   "id": "86effceb",
   "metadata": {},
   "outputs": [
    {
     "data": {
      "image/png": "[encoded data removed]",
      "text/plain": [
       "<Figure size 800x600 with 1 Axes>"
      ]
     },
     "metadata": {},
     "output_type": "display_data"
    }
   ],
   "source": [
    "# to find how many males are placed vs how many males are not placed \n",
    "import pandas as pp\n",
    "import matplotlib.pyplot as mm\n",
    "\n",
    "a = pp.read_csv('collegePlace.csv')\n",
    "\n",
    "males = a[a['Gender'] == 'Male']\n",
    "\n",
    "males_placed = males[males['PlacedOrNot'] == 1].shape [0]\n",
    "males_not_placed = males[males['PlacedOrNot'] == 0].shape[0]\n",
    "\n",
    "\n",
    "plot_data = pp.DataFrame({'status': ['placed','not placed'],\n",
    "                          'count': [males_placed,males_not_placed]})\n",
    "\n",
    "\n",
    "mm.figure(figsize = (8,6))\n",
    "mm.bar(plot_data['status'],plot_data['count'],color = ['orange', 'pink'])\n",
    "mm.xlabel('check the placement')\n",
    "mm.ylabel('no of males')\n",
    "mm.show()\n",
    "\n",
    "\n"
   ]
  },
  {
   "cell_type": "code",
   "execution_count": 61,
   "id": "cd8010c4",
   "metadata": {},
   "outputs": [
    {
     "data": {
      "text/plain": [
       "Gender\n",
       "Male      2475\n",
       "Female     491\n",
       "Name: count, dtype: int64"
      ]
     },
     "execution_count": 61,
     "metadata": {},
     "output_type": "execute_result"
    }
   ],
   "source": [
    "a['Gender'].value_counts()"
   ]
  },
  {
   "cell_type": "code",
   "execution_count": 62,
   "id": "1be35b44",
   "metadata": {},
   "outputs": [
    {
     "data": {
      "text/plain": [
       "CGPA\n",
       "7    956\n",
       "8    915\n",
       "6    834\n",
       "9    165\n",
       "5     96\n",
       "Name: count, dtype: int64"
      ]
     },
     "execution_count": 62,
     "metadata": {},
     "output_type": "execute_result"
    }
   ],
   "source": [
    "a['CGPA'].value_counts()"
   ]
  },
  {
   "cell_type": "code",
   "execution_count": 64,
   "id": "ce266e5c",
   "metadata": {},
   "outputs": [
    {
     "data": {
      "text/html": [
       "<div>\n",
       "<style scoped>\n",
       "    .dataframe tbody tr th:only-of-type {\n",
       "        vertical-align: middle;\n",
       "    }\n",
       "\n",
       "    .dataframe tbody tr th {\n",
       "        vertical-align: top;\n",
       "    }\n",
       "\n",
       "    .dataframe thead th {\n",
       "        text-align: right;\n",
       "    }\n",
       "</style>\n",
       "<table border=\"1\" class=\"dataframe\">\n",
       "  <thead>\n",
       "    <tr style=\"text-align: right;\">\n",
       "      <th></th>\n",
       "      <th>Age</th>\n",
       "      <th>Gender</th>\n",
       "      <th>Stream</th>\n",
       "      <th>Internships</th>\n",
       "      <th>CGPA</th>\n",
       "      <th>Hostel</th>\n",
       "      <th>HistoryOfBacklogs</th>\n",
       "      <th>PlacedOrNot</th>\n",
       "    </tr>\n",
       "  </thead>\n",
       "  <tbody>\n",
       "    <tr>\n",
       "      <th>2961</th>\n",
       "      <td>23</td>\n",
       "      <td>Male</td>\n",
       "      <td>Information Technology</td>\n",
       "      <td>0</td>\n",
       "      <td>7</td>\n",
       "      <td>0</td>\n",
       "      <td>0</td>\n",
       "      <td>0</td>\n",
       "    </tr>\n",
       "    <tr>\n",
       "      <th>2962</th>\n",
       "      <td>23</td>\n",
       "      <td>Male</td>\n",
       "      <td>Mechanical</td>\n",
       "      <td>1</td>\n",
       "      <td>7</td>\n",
       "      <td>1</td>\n",
       "      <td>0</td>\n",
       "      <td>0</td>\n",
       "    </tr>\n",
       "    <tr>\n",
       "      <th>2963</th>\n",
       "      <td>22</td>\n",
       "      <td>Male</td>\n",
       "      <td>Information Technology</td>\n",
       "      <td>1</td>\n",
       "      <td>7</td>\n",
       "      <td>0</td>\n",
       "      <td>0</td>\n",
       "      <td>0</td>\n",
       "    </tr>\n",
       "    <tr>\n",
       "      <th>2964</th>\n",
       "      <td>22</td>\n",
       "      <td>Male</td>\n",
       "      <td>Computer Science</td>\n",
       "      <td>1</td>\n",
       "      <td>7</td>\n",
       "      <td>0</td>\n",
       "      <td>0</td>\n",
       "      <td>0</td>\n",
       "    </tr>\n",
       "    <tr>\n",
       "      <th>2965</th>\n",
       "      <td>23</td>\n",
       "      <td>Male</td>\n",
       "      <td>Civil</td>\n",
       "      <td>0</td>\n",
       "      <td>8</td>\n",
       "      <td>0</td>\n",
       "      <td>0</td>\n",
       "      <td>1</td>\n",
       "    </tr>\n",
       "  </tbody>\n",
       "</table>\n",
       "</div>"
      ],
      "text/plain": [
       "      Age Gender                  Stream  Internships  CGPA  Hostel  \\\n",
       "2961   23   Male  Information Technology            0     7       0   \n",
       "2962   23   Male              Mechanical            1     7       1   \n",
       "2963   22   Male  Information Technology            1     7       0   \n",
       "2964   22   Male        Computer Science            1     7       0   \n",
       "2965   23   Male                   Civil            0     8       0   \n",
       "\n",
       "      HistoryOfBacklogs  PlacedOrNot  \n",
       "2961                  0            0  \n",
       "2962                  0            0  \n",
       "2963                  0            0  \n",
       "2964                  0            0  \n",
       "2965                  0            1  "
      ]
     },
     "execution_count": 64,
     "metadata": {},
     "output_type": "execute_result"
    }
   ],
   "source": [
    "# check how many students of >=8 CGPA are placed \n",
    "a.tail()"
   ]
  },
  {
   "cell_type": "code",
   "execution_count": 101,
   "id": "b2845cf5",
   "metadata": {},
   "outputs": [
    {
     "data": {
      "text/plain": [
       "Internships\n",
       "0    1331\n",
       "1    1234\n",
       "2     350\n",
       "3      51\n",
       "Name: count, dtype: int64"
      ]
     },
     "execution_count": 101,
     "metadata": {},
     "output_type": "execute_result"
    }
   ],
   "source": [
    "a['Internships'].value_counts() "
   ]
  },
  {
   "cell_type": "code",
   "execution_count": 131,
   "id": "46800892",
   "metadata": {},
   "outputs": [
    {
     "name": "stdout",
     "output_type": "stream",
     "text": [
      "placed students cgpa and internship  64\n"
     ]
    }
   ],
   "source": [
    "#a[(a['CGPA'] == 9 ) &\n",
    "#a[(a['PlacedOrNot'] == 1) &\n",
    "ps =a[(a['CGPA'] == 9 ) & (a['Internships'] == 1)]\n",
    "count_ps = ps.shape[0]\n",
    "print(\"placed students cgpa and internship \",count_ps)"
   ]
  },
  {
   "cell_type": "code",
   "execution_count": 117,
   "id": "2c5de2db",
   "metadata": {
    "scrolled": true
   },
   "outputs": [
    {
     "data": {
      "text/plain": [
       "Stream\n",
       "Computer Science                 776\n",
       "Information Technology           691\n",
       "Electronics And Communication    424\n",
       "Mechanical                       424\n",
       "Electrical                       334\n",
       "Civil                            317\n",
       "Name: count, dtype: int64"
      ]
     },
     "execution_count": 117,
     "metadata": {},
     "output_type": "execute_result"
    }
   ],
   "source": [
    "# count the number of students in different branches \n",
    "a['Stream'].value_counts()"
   ]
  },
  {
   "cell_type": "code",
   "execution_count": 156,
   "id": "34bc9537",
   "metadata": {},
   "outputs": [
    {
     "name": "stdout",
     "output_type": "stream",
     "text": [
      "number of students placed in computer scienece branch =  200\n"
     ]
    }
   ],
   "source": [
    "ff = a[(a['Stream'] == 'Mechanical')  &  (a['PlacedOrNot'] == 1)]\n",
    "count_ff = ff.shape[0]\n",
    "print(\"number of students placed in computer scienece branch = \",count_ff)"
   ]
  },
  {
   "cell_type": "code",
   "execution_count": 173,
   "id": "30a55d33",
   "metadata": {},
   "outputs": [
    {
     "name": "stdout",
     "output_type": "stream",
     "text": [
      "Stream\n",
      "Civil                            46.056782\n",
      "Computer Science                 58.247423\n",
      "Electrical                       54.191617\n",
      "Electronics And Communication    59.198113\n",
      "Information Technology           59.189580\n",
      "Mechanical                       47.169811\n",
      "Name: PlacedOrNot, dtype: float64\n",
      "Gender\n",
      "Female    56.008147\n",
      "Male      55.111111\n",
      "Name: PlacedOrNot, dtype: float64\n"
     ]
    }
   ],
   "source": [
    "gf = a.groupby('Stream')['PlacedOrNot'].mean()*100\n",
    "print(gf)\n",
    "gf = a.groupby('Gender')['PlacedOrNot'].mean()*100\n",
    "print(gf)"
   ]
  },
  {
   "cell_type": "code",
   "execution_count": 179,
   "id": "16918616",
   "metadata": {},
   "outputs": [
    {
     "name": "stdout",
     "output_type": "stream",
     "text": [
      "CGPA\n",
      "5    61.458333\n",
      "6    69.064748\n",
      "7    71.025105\n",
      "8    70.819672\n",
      "9    75.757576\n",
      "Name: Internships, dtype: float64\n",
      "Internships\n",
      "0    49.135988\n",
      "1    53.646677\n",
      "2    80.571429\n",
      "3    80.392157\n",
      "Name: PlacedOrNot, dtype: float64\n"
     ]
    }
   ],
   "source": [
    "gh = a.groupby('CGPA')['Internships'].mean()*100\n",
    "print(gh)\n",
    "gh = a.groupby('Internships')['PlacedOrNot'].mean()*100\n",
    "print((gh))"
   ]
  },
  {
   "cell_type": "code",
   "execution_count": 171,
   "id": "d81a6b76",
   "metadata": {},
   "outputs": [
    {
     "name": "stdout",
     "output_type": "stream",
     "text": [
      "Internships  CGPA\n",
      "0            5         2.040816\n",
      "             6        24.934383\n",
      "             7        18.912530\n",
      "             8       100.000000\n",
      "             9       100.000000\n",
      "1            5         8.333333\n",
      "             6        23.988439\n",
      "             7        30.827068\n",
      "             8       100.000000\n",
      "             9       100.000000\n",
      "2            5        20.000000\n",
      "             6        87.912088\n",
      "             7        59.836066\n",
      "             8       100.000000\n",
      "             9       100.000000\n",
      "3            5       100.000000\n",
      "             6        75.000000\n",
      "             7        50.000000\n",
      "             8       100.000000\n",
      "             9       100.000000\n",
      "Name: PlacedOrNot, dtype: float64\n"
     ]
    }
   ],
   "source": [
    "gh = a.groupby(['Internships','CGPA'])['PlacedOrNot'].mean()*100\n",
    "print(gh)"
   ]
  },
  {
   "cell_type": "code",
   "execution_count": 218,
   "id": "08bdd1f3",
   "metadata": {},
   "outputs": [
    {
     "name": "stdout",
     "output_type": "stream",
     "text": [
      "total males and females are =  2966\n",
      "G UNPLACED FEMALES ARE =  216\n",
      "F PLACED FEMALES ARE  =  275\n",
      "K UNPLACED MALES ARE =  1111\n",
      "M PLACED MALES ARE =  1364\n",
      "% of palced students are =  55.2596089008766\n",
      "% of students not got placed are =  44.7403910991234\n",
      "% of females got placed from total =  9.271746459878624\n",
      "% fo females not got placed form total =  7.282535401213757\n",
      "% of males got palced form total =  45.98786244099798\n",
      "% of males not palced from total =  37.45785569790964\n"
     ]
    }
   ],
   "source": [
    "total = len(a) # prints the total strangth of the students \n",
    "print(\"total males and females are = \",total)\n",
    "f= len(a[(a['Gender'] == 'Female') & (a['PlacedOrNot']== 1)])\n",
    "g = len(a[(a['Gender'] == 'Female') & (a['PlacedOrNot']== 0)])\n",
    "print(\"G UNPLACED FEMALES ARE = \", g)\n",
    "print(\"F PLACED FEMALES ARE  = \", f)\n",
    " \n",
    "    # LETS FIND THE SAME FOR THE MALES\n",
    "    \n",
    "    \n",
    "m = len(a[(a['Gender'] == 'Male')& (a['PlacedOrNot' ]== 1)])\n",
    "k = len(a[(a['Gender'] == 'Male')& (a['PlacedOrNot']== 0 )])\n",
    "print(\"K UNPLACED MALES ARE = \", k)\n",
    "print(\"M PLACED MALES ARE = \", m )\n",
    "\n",
    "got = ((f+m)/total)*100 # total students placed males + females \n",
    "print(\"% of palced students are = \", got)\n",
    "\n",
    "\n",
    "not_got = ((g+k)/total)*100\n",
    "print(\"% of students not got placed are = \", not_got)\n",
    "\n",
    "\n",
    "fem_got = (f/total)*100\n",
    "print(\"% of females got placed from total = \", fem_got)\n",
    "\n",
    "fem_notgot = (g/total)*100\n",
    "print(\"% fo females not got placed form total = \" , fem_notgot)\n",
    "\n",
    "\n",
    "male_got = (m/total)*100\n",
    "print(\"% of males got palced form total = \" , male_got)\n",
    "\n",
    "male_notgot = (k/total)*100\n",
    "print(\"% of males not palced from total = \" , male_notgot)"
   ]
  },
  {
   "cell_type": "code",
   "execution_count": 202,
   "id": "40a65a58",
   "metadata": {},
   "outputs": [
    {
     "data": {
      "text/plain": [
       "Gender\n",
       "Male      2475\n",
       "Female     491\n",
       "Name: count, dtype: int64"
      ]
     },
     "execution_count": 202,
     "metadata": {},
     "output_type": "execute_result"
    }
   ],
   "source": [
    "a['Gender'].value_counts()"
   ]
  },
  {
   "cell_type": "markdown",
   "id": "6601d1a4",
   "metadata": {},
   "source": [
    "# conclusion we get \n"
   ]
  },
  {
   "cell_type": "code",
   "execution_count": null,
   "id": "e013a261",
   "metadata": {},
   "outputs": [],
   "source": [
    "# students with 8 and 9 CGPA are placed 100%\n",
    "# stuents with stream CS ECE AND IT are palced mostly approx 55%\n",
    "# students who did 2 or 3 internships are palced 80% \n",
    "# if we compare the sex ratio placed so males are palced 45% and feamles are 9% from total that is 2966\n",
    "# total males are 2475 and placed are 1364\n",
    "# total females are 491 and placed are 275\n",
    "# total students are 2966 and total placed are 1639\n",
    "\n",
    "  # Internships  did\n",
    "#   0    1331 students\n",
    "#   1    1234 students\n",
    "#   2     350 students\n",
    "#   3      51 students\n",
    "\n",
    "    #CGPA of students\n",
    "# 5     96 students\n",
    "# 6    834 students\n",
    "# 7    956 students\n",
    "# 8    915 students\n",
    "# 9    165 students\n",
    "\n",
    "      #Gender\n",
    "# Male      2475\n",
    "# Female     491\n",
    "\n",
    "   #PlacedOrNot\n",
    " #placed    1639\n",
    " #not placed  1327\n",
    "\n",
    "\"\"\" Stream\n",
    "Computer Science                 776\n",
    "Information Technology           691\n",
    "Electronics And Communication    424\n",
    "Mechanical                       424\n",
    "Electrical                       334\n",
    "Civil                            317 \"\"\"\n",
    "\n",
    "print(\"hello\")\n"
   ]
  },
  {
   "cell_type": "code",
   "execution_count": null,
   "id": "5cf0c01c",
   "metadata": {},
   "outputs": [],
   "source": []
  }
 ],
 "metadata": {
  "kernelspec": {
   "display_name": "Python 3 (ipykernel)",
   "language": "python",
   "name": "python3"
  },
  "language_info": {
   "codemirror_mode": {
    "name": "ipython",
    "version": 3
   },
   "file_extension": ".py",
   "mimetype": "text/x-python",
   "name": "python",
   "nbconvert_exporter": "python",
   "pygments_lexer": "ipython3",
   "version": "3.11.4"
  }
 },
 "nbformat": 4,
 "nbformat_minor": 5
}
